{
 "cells": [
  {
   "cell_type": "code",
   "execution_count": 1,
   "metadata": {},
   "outputs": [],
   "source": [
    "import pandas as pd\n",
    "import spacy"
   ]
  },
  {
   "cell_type": "code",
   "execution_count": 2,
   "metadata": {},
   "outputs": [],
   "source": [
    "df = pd.read_csv('all_merged.csv')\n",
    "string = 'this is a string before going through the lemmatizer, idk what this gonna look like'"
   ]
  },
  {
   "cell_type": "code",
   "execution_count": 3,
   "metadata": {},
   "outputs": [],
   "source": [
    "nlp = spacy.load('en_core_web_sm')"
   ]
  },
  {
   "cell_type": "code",
   "execution_count": 9,
   "metadata": {},
   "outputs": [
    {
     "name": "stdout",
     "output_type": "stream",
     "text": [
      "[The, head, conservative, Republican, faction, U.S., Congress, ,, voted, month, huge, expansion, national, debt, pay, tax, cuts, ,, called, “, fiscal, conservative, ”, Sunday, urged, budget, restraint, 2018, ., In, keeping, sharp, pivot, way, among, Republicans, ,, U.S., Representative, Mark, Meadows, ,, speaking, CBS, ’, “, Face, Nation, ,, ”, drew, hard, line, federal, spending, ,, lawmakers, bracing, battle, January, ., When, return, holidays, Wednesday, ,, lawmakers, begin, trying, pass, federal, budget, fight, likely, linked, issues, ,, immigration, policy, ,, even, November, congressional, election, campaigns, approach, Republicans, seek, keep, control, Congress, ., President, Donald, Trump, Republicans, want, big, budget, increase, military, spending, ,, Democrats, also, want, proportional, increases, non, -, defense, “, discretionary, ”, spending, programs, support, education, ,, scientific, research, ,, infrastructure, ,, public, health, environmental, protection, ., “, The, (, Trump, ), administration, already, willing, say, :, ‘, We, ’re, going, increase, non, -, defense, discretionary, spending, ..., 7, percent, ,, ’, ”, Meadows, ,, chairman, small, influential, House, Freedom, Caucus, ,, said, program, ., “, Now, ,, Democrats, saying, that, ’s, enough, ,, need, give, government, pay, raise, 10, 11, percent, ., For, fiscal, conservative, ,, I, do, n’t, see, rationale, is, ., ..., Eventually, run, people, ’s, money, ,, ”, said, ., Meadows, among, Republicans, voted, late, December, party, ’s, debt, -, financed, tax, overhaul, ,, expected, balloon, federal, budget, deficit, add, $, 1.5, trillion, 10, years, $, 20, trillion, national, debt, ., “, It, ’s, interesting, hear, Mark, talk, fiscal, responsibility, ,, ”, Democratic, U.S., Representative, Joseph, Crowley, said, CBS, ., Crowley, said, Republican, tax, bill, would, require, United, States, borrow, $, 1.5, trillion, ,, paid, future, generations, ,, finance, tax, cuts, corporations, rich, ., “, This, one, least, ..., fiscally, responsible, bills, we, ’ve, ever, seen, passed, history, House, Representatives, ., I, think, we, ’re, going, paying, many, ,, many, years, come, ,, ”, Crowley, said, ., Republicans, insist, tax, package, ,, biggest, U.S., tax, overhaul, 30, years, ,, boost, economy, job, growth, ., House, Speaker, Paul, Ryan, ,, also, supported, tax, bill, ,, recently, went, Meadows, ,, making, clear, radio, interview, welfare, “, entitlement, reform, ,, ”, party, often, calls, it, ,, would, top, Republican, priority, 2018, ., In, Republican, parlance, ,, “, entitlement, ”, programs, mean, food, stamps, ,, housing, assistance, ,, Medicare, Medicaid, health, insurance, elderly, ,, poor, disabled, ,, well, programs, created, Washington, assist, needy, ., Democrats, seized, Ryan, ’s, early, December, remarks, ,, saying, showed, Republicans, would, try, pay, tax, overhaul, seeking, spending, cuts, social, programs, ., But, goals, House, Republicans, may, take, back, seat, Senate, ,, votes, Democrats, needed, approve, budget, prevent, government, shutdown, ., Democrats, use, leverage, Senate, ,, Republicans, narrowly, control, ,, defend, discretionary, non, -, defense, programs, social, spending, ,, tackling, issue, “, Dreamers, ,, ”, people, brought, illegally, country, children, ., Trump, September, put, March, 2018, expiration, date, Deferred, Action, Childhood, Arrivals, ,, DACA, ,, program, ,, protects, young, immigrants, deportation, provides, work, permits, ., The, president, said, recent, Twitter, messages, wants, funding, proposed, Mexican, border, wall, immigration, law, changes, exchange, agreeing, help, Dreamers, ., Representative, Debbie, Dingell, told, CBS, favor, linking, issue, policy, objectives, ,, wall, funding, ., “, We, need, DACA, clean, ,, ”, said, ., On, Wednesday, ,, Trump, aides, meet, congressional, leaders, discuss, issues, ., That, followed, weekend, strategy, sessions, Trump, Republican, leaders, Jan., 6, 7, ,, White, House, said, ., Trump, also, scheduled, meet, Sunday, Florida, Republican, Governor, Rick, Scott, ,, wants, emergency, aid, ., The, House, passed, $, 81, billion, aid, package, hurricanes, Florida, ,, Texas, Puerto, Rico, ,, wildfires, California, ., The, package, far, exceeded, $, 44, billion, requested, Trump, administration, ., The, Senate, yet, voted, aid, .]\n",
      "the head conservative republican faction U.S. Congress , vote month huge expansion national debt pay tax cut , call \" fiscal conservative \" Sunday urge budget restraint 2018 . in keep sharp pivot way among Republicans , U.S. Representative Mark Meadows , speak CBS ' \" Face nation , \" draw hard line federal spending , lawmaker brace battle January . when return holiday Wednesday , lawmaker begin try pass federal budget fight likely link issue , immigration policy , even November congressional election campaign approach Republicans seek keep control Congress . President Donald Trump Republicans want big budget increase military spending , Democrats also want proportional increase non - defense \" discretionary \" spending program support education , scientific research , infrastructure , public health environmental protection . \" the ( Trump ) administration already willing say : ' we ’re go increase non - defense discretionary spending ... 7 percent , ' \" meadow , chairman small influential House Freedom Caucus , say program . \" now , Democrats say that ’s enough , need give government pay raise 10 11 percent . for fiscal conservative , I do not see rationale be . ... eventually run people ’s money , \" say . meadow among Republicans vote late December party ’s debt - finance tax overhaul , expect balloon federal budget deficit add $ 1.5 trillion 10 year $ 20 trillion national debt . \" it ’ interesting hear Mark talk fiscal responsibility , \" democratic U.S. Representative Joseph Crowley say CBS . Crowley say republican tax bill would require United States borrow $ 1.5 trillion , pay future generation , finance tax cut corporation rich . \" this one least ... fiscally responsible bill we ’ve ever see pass history House Representatives . I think we ’re going pay many , many year come , \" Crowley say . Republicans insist tax package , big U.S. tax overhaul 30 year , boost economy job growth . House Speaker Paul Ryan , also support tax bill , recently go meadow , make clear radio interview welfare \" entitlement reform , \" party often call it , would top republican priority 2018 . in republican parlance , \" entitlement \" program mean food stamp , housing assistance , Medicare Medicaid health insurance elderly , poor disabled , well program create Washington assist needy . Democrats seize Ryan ’s early December remark , say show Republicans would try pay tax overhaul seek spending cut social program . but goal House Republicans may take back seat Senate , vote Democrats need approve budget prevent government shutdown . Democrats use leverage Senate , Republicans narrowly control , defend discretionary non - defense program social spending , tackle issue \" dreamer , \" people bring illegally country child . trump September put March 2018 expiration date Deferred Action Childhood Arrivals , DACA , program , protect young immigrant deportation provide work permit . the president say recent Twitter message want funding propose mexican border wall immigration law change exchange agree help dreamer . Representative Debbie Dingell tell CBS favor link issue policy objective , wall funding . \" we need DACA clean , \" say . on Wednesday , Trump aide meet congressional leader discuss issue . that follow weekend strategy session Trump republican leader Jan. 6 7 , White House say . Trump also schedule meet Sunday Florida Republican Governor Rick Scott , want emergency aid . the House pass $ 81 billion aid package hurricane Florida , Texas Puerto Rico , wildfire California . the package far exceed $ 44 billion request Trump administration . the Senate yet vote aid .\n"
     ]
    }
   ],
   "source": [
    "doc = nlp(df['text'][0])\n",
    "tokens = []\n",
    "for token in doc:\n",
    "    tokens.append(token)\n",
    "print(tokens)\n",
    "lemmatized_sentence = \" \".join([token.lemma_ for token in doc])\n",
    "print(lemmatized_sentence)"
   ]
  }
 ],
 "metadata": {
  "kernelspec": {
   "display_name": "base",
   "language": "python",
   "name": "python3"
  },
  "language_info": {
   "codemirror_mode": {
    "name": "ipython",
    "version": 3
   },
   "file_extension": ".py",
   "mimetype": "text/x-python",
   "name": "python",
   "nbconvert_exporter": "python",
   "pygments_lexer": "ipython3",
   "version": "3.12.2"
  }
 },
 "nbformat": 4,
 "nbformat_minor": 2
}
